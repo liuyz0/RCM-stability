{
 "cells": [
  {
   "attachments": {},
   "cell_type": "markdown",
   "metadata": {},
   "source": [
    "# Save $C$, $G$, $S^*$, and $R^*$ and save them\n"
   ]
  },
  {
   "cell_type": "code",
   "execution_count": 24,
   "metadata": {},
   "outputs": [],
   "source": [
    "import torch\n",
    "import math\n",
    "import numpy as np\n",
    "from scipy.io import savemat\n",
    "from scipy.io import loadmat\n",
    "\n",
    "#torch.set_default_tensor_type(torch.float64)\n",
    "\n",
    "Ns = 40 # # of species\n",
    "Nr = 32 # # of resources\n",
    "\n",
    "rho = .8 # correlation\n",
    "\n",
    "sample = torch.rand(Ns,2,Nr)\n",
    "L = torch.tensor([[1, 0],\n",
    "                 [rho, math.sqrt(1-rho**2)]]) # Cholesky decomposition\n",
    "\n",
    "sample = torch.matmul(L,sample)\n",
    "\n",
    "G = sample[0:Ns,0]\n",
    "C = sample[0:Ns,1] # C has not been pushed away\n",
    "\n",
    "C = C @ torch.diag(0.01+ 0.99*torch.rand(Nr))\n",
    "Sstar = 0.01 + 0.99*torch.rand(Ns)\n",
    "Rstar = 0.01 + 0.99*torch.rand(Nr)\n",
    "\n",
    "tensordic = {\"C\":C.numpy(), \"G\": G.numpy()}\n",
    "\n",
    "savemat(\"./data/test_matrix.mat\", tensordic)"
   ]
  },
  {
   "cell_type": "code",
   "execution_count": 10,
   "metadata": {},
   "outputs": [],
   "source": [
    "loaded = loadmat(\"./data/test_matrix.mat\")\n",
    "loadC = torch.tensor(loaded[\"C\"])"
   ]
  },
  {
   "cell_type": "code",
   "execution_count": 22,
   "metadata": {},
   "outputs": [
    {
     "data": {
      "text/plain": [
       "45"
      ]
     },
     "execution_count": 22,
     "metadata": {},
     "output_type": "execute_result"
    }
   ],
   "source": [
    "loaded = loadmat(\"./data/allsamples.mat\")\n",
    "Nr = int(loaded[\"Nr\"])\n",
    "Ns_span = loaded[\"Ns_span\"][0]\n",
    "rho_span = loaded[\"rho_span\"][0]\n",
    "Ns=40\n",
    "G = torch.tensor(loaded[\"allG\"][1,0,:Ns,:])\n",
    "len(Ns_span)"
   ]
  }
 ],
 "metadata": {
  "kernelspec": {
   "display_name": "base",
   "language": "python",
   "name": "python3"
  },
  "language_info": {
   "codemirror_mode": {
    "name": "ipython",
    "version": 3
   },
   "file_extension": ".py",
   "mimetype": "text/x-python",
   "name": "python",
   "nbconvert_exporter": "python",
   "pygments_lexer": "ipython3",
   "version": "3.10.9"
  },
  "orig_nbformat": 4
 },
 "nbformat": 4,
 "nbformat_minor": 2
}
