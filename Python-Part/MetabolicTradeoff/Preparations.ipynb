{
 "cells": [
  {
   "attachments": {},
   "cell_type": "markdown",
   "metadata": {},
   "source": [
    "# Preparation for simplex sampling simulations\n",
    "\n",
    "We need to sample $G$, $C$ from simplex. Calculate different $I(G,C)$, interaction matrix, and the real Jacobian. "
   ]
  },
  {
   "attachments": {},
   "cell_type": "markdown",
   "metadata": {},
   "source": [
    "## Theory"
   ]
  },
  {
   "attachments": {},
   "cell_type": "markdown",
   "metadata": {},
   "source": [
    "We focus on constant supply here. \n",
    "$$\n",
    "\\frac{\\mathrm{d} S_i}{\\mathrm{d} t} = S_i \\Big(\\sum_{\\alpha}G_{i\\alpha}R_{\\alpha} - \\delta_i \\Big),\\\\\n",
    "\\frac{\\mathrm{d} R_{\\alpha}}{\\mathrm{d} t} = h_{\\alpha}(R_\\alpha) - R_{\\alpha}\\sum_{i}C_{i\\alpha}S_i.\n",
    "$$\n",
    "Local Jacobian at fixed point is \n",
    "$$\n",
    "   J^* = \\left(\\begin{array}{c|c}\n",
    "       O  & D(S^*)G\\\\[1.0ex]\n",
    "     \\hline\\\\[-1.0ex]\n",
    "     -D(R^*)C^\\top   & \\frac{\\partial h}{\\partial R} - D(C^\\top S^*)\n",
    "    \\end{array}\n",
    "    \\right).\n",
    "$$\n",
    "\n",
    "Doing local mapping to GLV, we have\n",
    "$$\n",
    "\\frac{\\mathrm{d} s}{\\mathrm{d} t} = -D(S^*) G \\frac{D(R^*)}{D(C^\\top S^*)}C^\\top s\n",
    "$$"
   ]
  },
  {
   "attachments": {},
   "cell_type": "markdown",
   "metadata": {},
   "source": [
    "## Functions"
   ]
  },
  {
   "cell_type": "code",
   "execution_count": 1,
   "metadata": {},
   "outputs": [],
   "source": [
    "import torch\n",
    "import numpy as np\n",
    "import math"
   ]
  },
  {
   "attachments": {},
   "cell_type": "markdown",
   "metadata": {},
   "source": [
    "Functions to sample $G$, $C$, $S^*$, and calculate $\\gamma$ (resource supply)."
   ]
  },
  {
   "cell_type": "code",
   "execution_count": 2,
   "metadata": {},
   "outputs": [],
   "source": [
    "def SampleSimplex(Ns:int, # number of species\n",
    "                  Nr:int, # number of resources\n",
    "                  rho:float, # correlation in smapling G and C\n",
    "                  ):\n",
    "    sample = torch.rand(Ns,2,Nr-1).sort().values\n",
    "\n",
    "    sample1 = torch.zeros(Ns,2,Nr)\n",
    "    sample1[:,:,1:Nr] = sample\n",
    "\n",
    "    sample2 = torch.ones(Ns,2,Nr)\n",
    "    sample2[:,:,0:Nr-1] = sample\n",
    "\n",
    "    props = sample2 - sample1\n",
    "\n",
    "    L = torch.tensor([[1, 0],\n",
    "                 [rho, math.sqrt(1-rho**2)]]) # Cholesky decomposition\n",
    "    \n",
    "    L = (torch.sum(L,dim=1)**(-1)).unsqueeze(1) * L # to simplex\n",
    "\n",
    "    props = torch.matmul(L,props)\n",
    "    G = props[:,0]\n",
    "    C = props[:,1]\n",
    "\n",
    "    Ss = 0.01 + 0.99*torch.rand(Ns)\n",
    "\n",
    "    gamma = Ss @ C\n",
    "\n",
    "    return G, C, Ss, gamma"
   ]
  },
  {
   "attachments": {},
   "cell_type": "markdown",
   "metadata": {},
   "source": [
    "Given $G$, $C$, $S^*$, caculate real Jacobian."
   ]
  },
  {
   "cell_type": "code",
   "execution_count": 3,
   "metadata": {},
   "outputs": [],
   "source": [
    "def Jacobian(G:torch.Tensor, # growth rates\n",
    "             C:torch.Tensor, # consumption rates\n",
    "             Ss:torch.Tensor, # species abundances S^*\n",
    "             criterion = 1.0e-3 # larger than which we think is unstable\n",
    "             ):\n",
    "    Ns, Nr = G.shape[:2]\n",
    "    Jstar = torch.zeros(Ns+Nr,Ns+Nr)\n",
    "    Jstar[0:Ns,Ns:Ns+Nr] = Ss.unsqueeze(1) * G\n",
    "    Jstar[Ns:Ns+Nr,0:Ns] = - C.transpose(0,1)\n",
    "    Jstar[Ns:Ns+Nr,Ns:Ns+Nr] = - torch.diag(C.transpose(0,1) @ Ss)\n",
    "\n",
    "    E_J = torch.linalg.eigvals(Jstar).real\n",
    "    umodel = len(E_J[E_J >= criterion])/Ns\n",
    "\n",
    "    return umodel"
   ]
  },
  {
   "attachments": {},
   "cell_type": "markdown",
   "metadata": {},
   "source": [
    "Calculate variance, mean, and symmetricity of the interaction matrix."
   ]
  },
  {
   "cell_type": "code",
   "execution_count": 4,
   "metadata": {},
   "outputs": [],
   "source": [
    "def IntMatrix(G:torch.Tensor, # growth rates\n",
    "             C:torch.Tensor, # consumption rates\n",
    "             Ss:torch.Tensor, # species abundances S^*\n",
    "             ):\n",
    "    # interaction matrix:\n",
    "    IM = (G * ((Ss @ C)**(-1)).unsqueeze(0)) @ C.transpose(0,1)\n",
    "\n",
    "    # normalize\n",
    "    IM = ((IM.diag())**(-0.5)).unsqueeze(1) * IM * ((IM.diag())**(-0.5)).unsqueeze(0)\n",
    "\n",
    "    Mask = torch.ones(IM.size()).triu(diagonal=1)==1\n",
    "    UTri = IM[Mask]\n",
    "    LTri = IM.transpose(0,1)[Mask]\n",
    "    \n",
    "    ndiag = torch.cat((UTri,LTri))\n",
    "    mean = ndiag.mean()\n",
    "    sigma = ndiag.std()\n",
    "\n",
    "    corr = torch.corrcoef(torch.cat((UTri.unsqueeze(0),LTri.unsqueeze(0))))[0,1]\n",
    "    return mean, sigma, corr"
   ]
  },
  {
   "attachments": {},
   "cell_type": "markdown",
   "metadata": {},
   "source": [
    "Calculate the original $I(G,C)$"
   ]
  },
  {
   "cell_type": "code",
   "execution_count": 5,
   "metadata": {},
   "outputs": [],
   "source": [
    "def NormalG(G):\n",
    "    G = torch.diag((torch.sum(G, 1))**(-1)) @ G\n",
    "    return G\n",
    "\n",
    "def Hetero(G):\n",
    "    Ns = G.shape[0]\n",
    "    # normaized to the simplex\n",
    "    G = torch.diag((torch.sum(G, 1))**(-1)) @ G\n",
    "\n",
    "    # G-G distances\n",
    "    distances = torch.zeros(Ns,Ns)\n",
    "    for i in range(Ns-1):\n",
    "        for j in range(i+1, Ns):\n",
    "            distances[i,j] = torch.linalg.norm(G[i] - G[j])\n",
    "    distances = distances + distances.transpose(0,1) + 2*torch.diag(torch.ones(Ns))\n",
    "    minDis = torch.min(distances, 1).values\n",
    "    H = torch.mean(minDis)\n",
    "    return H/2\n",
    "\n",
    "def I(G,C):\n",
    "    NG = NormalG(G)\n",
    "    H = Hetero(G)\n",
    "    # normaized to the simplex\n",
    "    C = torch.diag((torch.sum(C, 1))**(-1)) @ C\n",
    "\n",
    "    # G-C distances\n",
    "    J = torch.mean(torch.linalg.norm(NG - C, dim=1))\n",
    "\n",
    "    # G-G distances given by H\n",
    "    # by definition\n",
    "    I = J/H\n",
    "    return I"
   ]
  },
  {
   "attachments": {},
   "cell_type": "markdown",
   "metadata": {},
   "source": [
    "New measure based on noise-signal ratio"
   ]
  },
  {
   "cell_type": "code",
   "execution_count": 6,
   "metadata": {},
   "outputs": [],
   "source": [
    "\"\"\"\n",
    "def InewSimplex(G:torch.Tensor, # growth rates\n",
    "                C:torch.Tensor, # consumption rates on simplex!\n",
    "                ):\n",
    "    # calculate Inew for G, C on simplex\n",
    "    # G-G distances\n",
    "    [Ns, Nr] = G.size()\n",
    "    meanG = torch.mean(G,dim=0)\n",
    "    SSb = torch.zeros(Nr,Nr)\n",
    "    SSw = torch.zeros(Nr,Nr)\n",
    "\n",
    "    for i in range(Ns):\n",
    "        dg = (G[i] - meanG).unsqueeze(1)\n",
    "        dgc = (C[i] - G[i]).unsqueeze(1)\n",
    "        SSb = SSb + dg @ dg.transpose(0,1)\n",
    "        SSw = SSw + dgc @ dgc.transpose(0,1)\n",
    "    SSb = SSb/Ns\n",
    "    SSw = SSw/Ns\n",
    "\n",
    "    _, V = torch.linalg.eigh(SSb)\n",
    "\n",
    "    I = math.sqrt((V.transpose(0,1) @ (SSw @ torch.linalg.pinv(SSb)) @ V).diag().max())\n",
    "    return I\n",
    "\"\"\"\n",
    "# not working\n",
    "\n",
    "def Heteros(G):\n",
    "    Ns = G.shape[0]\n",
    "    # normaized to the simplex\n",
    "    G = torch.diag((torch.sum(G, 1))**(-1)) @ G\n",
    "\n",
    "    # G-G distances\n",
    "    distances = torch.zeros(Ns,Ns)\n",
    "    for i in range(Ns-1):\n",
    "        for j in range(i+1, Ns):\n",
    "            distances[i,j] = torch.linalg.norm(G[i] - G[j])\n",
    "    distances = distances + distances.transpose(0,1) + 2*torch.diag(torch.ones(Ns))\n",
    "    minDis = torch.min(distances, 1).values\n",
    "    \n",
    "    return minDis/2 # a Ns tensor\n",
    "\n",
    "def Inew(G:torch.Tensor, # growth rates\n",
    "         C:torch.Tensor, # consumption rates\n",
    "        ):\n",
    "    # normaized to the simplex\n",
    "    C = torch.diag((torch.sum(C, 1))**(-1)) @ C\n",
    "    G = torch.diag((torch.sum(G, 1))**(-1)) @ G\n",
    "\n",
    "    GGdiss = Heteros(G)\n",
    "\n",
    "    GCdiss = torch.linalg.norm(G - C, dim=1)\n",
    "\n",
    "    Is = GCdiss/GGdiss\n",
    "\n",
    "    return Is.mean(), Is.std()"
   ]
  },
  {
   "attachments": {},
   "cell_type": "markdown",
   "metadata": {},
   "source": [
    "Tests"
   ]
  },
  {
   "cell_type": "code",
   "execution_count": 7,
   "metadata": {},
   "outputs": [
    {
     "name": "stdout",
     "output_type": "stream",
     "text": [
      "Jacobian:  0.0  interaction matrix:  tensor(1.1839) I is tensor(0.9744) new I is: (tensor(0.9876), tensor(0.1774))\n"
     ]
    }
   ],
   "source": [
    "Ns = 32\n",
    "G, C, Ss, gamma = SampleSimplex(Ns,32,0.87)\n",
    "\n",
    "mean, sigma, _ = IntMatrix(G,C,Ss)\n",
    "\n",
    "print('Jacobian: ',Jacobian(G,C,Ss,1e-3), ' interaction matrix: ', sigma * math.sqrt(Ns) + mean, 'I is', I(G,C),\n",
    "      'new I is:', Inew(G,C))"
   ]
  },
  {
   "attachments": {},
   "cell_type": "markdown",
   "metadata": {},
   "source": [
    "$I$ and new $I$ has no big difference, just add std of $I$. :)"
   ]
  },
  {
   "attachments": {},
   "cell_type": "markdown",
   "metadata": {},
   "source": [
    "## Run!"
   ]
  },
  {
   "cell_type": "code",
   "execution_count": 30,
   "metadata": {},
   "outputs": [],
   "source": [
    "# Ns from 4 to 48;\n",
    "# Nr 32;\n",
    "# each given Ns, Nr; try 144 different \\rho;\n",
    "# output J, Interaction stength, and new I (mean + std)\n",
    "\n",
    "Nr = 32\n",
    "Ns_span = [32]\n",
    "num_rho = 512\n",
    "\n",
    "rho_span = torch.zeros(num_rho)\n",
    "rho_span[:int(num_rho/2)] = torch.linspace(0, .869, steps=int(num_rho/2))\n",
    "rho_span[int(num_rho/2):] = torch.linspace(.87, 1, steps=int(num_rho/2))\n",
    "\n",
    "outputs = torch.zeros(len(Ns_span),num_rho,4)\n",
    "\n",
    "for i in range(len(Ns_span)):\n",
    "    Ns = Ns_span[i]\n",
    "    for j in range(num_rho):\n",
    "        rho = rho_span[j]\n",
    "        G,C,Ss,_ = SampleSimplex(Ns, Nr, rho)\n",
    "        outputs[i,j,0] = Jacobian(G,C,Ss,5e-4)\n",
    "        \n",
    "        mean, sigma, _ = IntMatrix(G,C,Ss)\n",
    "        outputs[i,j,1] = sigma * math.sqrt(Ns) + mean\n",
    "\n",
    "        Imean, Istd = Inew(G,C)\n",
    "        outputs[i,j,2] = Imean\n",
    "        outputs[i,j,3] = Istd"
   ]
  },
  {
   "attachments": {},
   "cell_type": "markdown",
   "metadata": {},
   "source": [
    "## Plot"
   ]
  },
  {
   "cell_type": "code",
   "execution_count": 46,
   "metadata": {},
   "outputs": [],
   "source": [
    "import matplotlib.pyplot as plt\n",
    "import matplotlib\n",
    "matplotlib.rcParams.update({'font.size': 11})"
   ]
  },
  {
   "cell_type": "code",
   "execution_count": 32,
   "metadata": {},
   "outputs": [
    {
     "data": {
      "text/plain": [
       "Text(0, 0.5, 'Interaction matrix')"
      ]
     },
     "execution_count": 32,
     "metadata": {},
     "output_type": "execute_result"
    },
    {
     "data": {
      "image/png": "[encoded data removed]",
      "text/plain": [
       "<Figure size 640x480 with 2 Axes>"
      ]
     },
     "metadata": {},
     "output_type": "display_data"
    }
   ],
   "source": [
    "NsNr = (torch.tensor(Ns_span).view(1,len(Ns_span)).transpose(0,1) * torch.ones(1,len(rho_span)))/Nr\n",
    "\n",
    "unstable = (outputs[:,:,0] > 0).float()\n",
    "plt.figure()\n",
    "plt.scatter(NsNr,outputs[:,:,1],c=unstable) # try to plot something like the fraction of unstable states (inside one pixel)\n",
    "plt.colorbar()\n",
    "\n",
    "plt.xlabel('Species-resource ratio, $N_S/N_R$')\n",
    "plt.ylabel('Interaction matrix')"
   ]
  },
  {
   "cell_type": "code",
   "execution_count": 33,
   "metadata": {},
   "outputs": [],
   "source": [
    "intm_mean = []\n",
    "uf_mean = []\n",
    "intm_std = []\n",
    "uf_std = []\n",
    "\n",
    "for i in range(100):\n",
    "    indeces = ((i*0.025<=outputs[:,:,1]) & (outputs[:,:,1]<(i+1)*0.025)).nonzero(as_tuple=True)\n",
    "    x_group = (outputs[:,:,1])[indeces]\n",
    "    y_group = unstable[indeces]\n",
    "    if x_group.size() != torch.Size([0]):\n",
    "        intm_mean.append(torch.mean(x_group))\n",
    "        intm_std.append(torch.std(x_group)/math.sqrt(len(indeces[0])))\n",
    "        uf_mean.append(torch.mean(y_group))\n",
    "        uf_std.append(torch.std(y_group)/math.sqrt(len(indeces[0])))"
   ]
  },
  {
   "cell_type": "code",
   "execution_count": 34,
   "metadata": {},
   "outputs": [
    {
     "data": {
      "text/plain": [
       "Text(0, 0.5, 'Fraction of unstable communities')"
      ]
     },
     "execution_count": 34,
     "metadata": {},
     "output_type": "execute_result"
    },
    {
     "data": {
      "image/png": "[encoded data removed]",
      "text/plain": [
       "<Figure size 400x300 with 1 Axes>"
      ]
     },
     "metadata": {},
     "output_type": "display_data"
    }
   ],
   "source": [
    "plt.figure(figsize=(4, 3),constrained_layout=True)\n",
    "plt.errorbar(intm_mean,uf_mean, xerr=intm_std, yerr= uf_std, marker = 'o', ls='none')\n",
    "\n",
    "plt.xlabel('Interaction matrix')\n",
    "plt.ylabel('Fraction of unstable communities')"
   ]
  },
  {
   "cell_type": "code",
   "execution_count": 35,
   "metadata": {},
   "outputs": [
    {
     "data": {
      "text/plain": [
       "Text(0, 0.5, 'Encroachment')"
      ]
     },
     "execution_count": 35,
     "metadata": {},
     "output_type": "execute_result"
    },
    {
     "data": {
      "image/png": "[encoded data removed]",
      "text/plain": [
       "<Figure size 640x480 with 2 Axes>"
      ]
     },
     "metadata": {},
     "output_type": "display_data"
    }
   ],
   "source": [
    "plt.figure()\n",
    "plt.scatter(NsNr,outputs[:,:,2],c=unstable,alpha=0.1) # try to plot something like the fraction of unstable states (inside one pixel)\n",
    "plt.colorbar()\n",
    "\n",
    "plt.xlabel('Species-resource ratio, $N_S/N_R$')\n",
    "plt.ylabel('Encroachment')"
   ]
  },
  {
   "cell_type": "code",
   "execution_count": 36,
   "metadata": {},
   "outputs": [],
   "source": [
    "E_mean = []\n",
    "uf1_mean = []\n",
    "E_std = []\n",
    "uf1_std = []\n",
    "\n",
    "for i in range(60):\n",
    "    indeces = ((i*0.1<=outputs[:,:,2]) & (outputs[:,:,2]<(i+1)*0.1)).nonzero(as_tuple=True)\n",
    "    x_group = (outputs[:,:,2])[indeces]\n",
    "    y_group = unstable[indeces]\n",
    "    if x_group.size() != torch.Size([0]):\n",
    "        E_mean.append(torch.mean(x_group))\n",
    "        E_std.append(torch.std(x_group)/math.sqrt(len(indeces[0])))\n",
    "        uf1_mean.append(torch.mean(y_group))\n",
    "        uf1_std.append(torch.std(y_group)/math.sqrt(len(indeces[0])))"
   ]
  },
  {
   "cell_type": "code",
   "execution_count": 47,
   "metadata": {},
   "outputs": [
    {
     "data": {
      "image/png": "[encoded data removed]",
      "text/plain": [
       "<Figure size 400x300 with 2 Axes>"
      ]
     },
     "metadata": {},
     "output_type": "display_data"
    }
   ],
   "source": [
    "fig, axs = plt.subplots(1, 2, figsize=(4, 3), constrained_layout=True)\n",
    "axs[0].errorbar(E_mean,uf1_mean, xerr=E_std, yerr= uf1_std, marker = 'o', ls='none')\n",
    "axs[0].plot(torch.linspace(1.,1.,steps=10),torch.linspace(0.,1.,steps=10), '--')\n",
    "axs[1].errorbar(intm_mean,uf_mean, xerr=intm_std, yerr= uf_std, marker = '^', ls='none')\n",
    "axs[1].plot(torch.linspace(1.,1.,steps=10),torch.linspace(0.,1.,steps=10), '--')\n",
    "\n",
    "axs[0].set_xlim(0,3.0)\n",
    "axs[0].set_ylim(0,1)\n",
    "\n",
    "axs[1].set_xlim(0.9,2.4)\n",
    "axs[1].set_ylim(0,1)\n",
    "\n",
    "axs[0].set_xlabel('Encroachment, $I(G,C)$')\n",
    "axs[1].set_xlabel('Interaction matrix')\n",
    "axs[0].set_ylabel('Fraction of unstable communities')\n",
    "plt.savefig('../figures/IandIM.eps',format='eps')"
   ]
  },
  {
   "cell_type": "code",
   "execution_count": 42,
   "metadata": {},
   "outputs": [
    {
     "data": {
      "text/plain": [
       "3"
      ]
     },
     "execution_count": 42,
     "metadata": {},
     "output_type": "execute_result"
    }
   ],
   "source": [
    "len((((outputs[:,:,2] < 1.0) & (unstable == 1.0)).nonzero(as_tuple=True))[0])"
   ]
  },
  {
   "cell_type": "code",
   "execution_count": 43,
   "metadata": {},
   "outputs": [
    {
     "data": {
      "text/plain": [
       "31"
      ]
     },
     "execution_count": 43,
     "metadata": {},
     "output_type": "execute_result"
    }
   ],
   "source": [
    "len((((outputs[:,:,2] > 1.0) & (unstable == 0.0)).nonzero(as_tuple=True))[0])# 93.3"
   ]
  },
  {
   "cell_type": "code",
   "execution_count": 44,
   "metadata": {},
   "outputs": [
    {
     "data": {
      "text/plain": [
       "283"
      ]
     },
     "execution_count": 44,
     "metadata": {},
     "output_type": "execute_result"
    }
   ],
   "source": [
    "len((((outputs[:,:,1] > 1.0) & (unstable == 0.0)).nonzero(as_tuple=True))[0])# 44.7"
   ]
  }
 ],
 "metadata": {
  "kernelspec": {
   "display_name": "base",
   "language": "python",
   "name": "python3"
  },
  "language_info": {
   "codemirror_mode": {
    "name": "ipython",
    "version": 3
   },
   "file_extension": ".py",
   "mimetype": "text/x-python",
   "name": "python",
   "nbconvert_exporter": "python",
   "pygments_lexer": "ipython3",
   "version": "3.10.9"
  },
  "orig_nbformat": 4
 },
 "nbformat": 4,
 "nbformat_minor": 2
}
