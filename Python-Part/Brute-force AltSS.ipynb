{
 "cells": [
  {
   "attachments": {},
   "cell_type": "markdown",
   "metadata": {},
   "source": [
    "# Brute-force solving altervative stable states for different kinds of resource supplies.\n",
    "\n",
    "Before we use self-written optimization, here, we should try python packages for solving lieanr or non-linear systems."
   ]
  },
  {
   "attachments": {},
   "cell_type": "markdown",
   "metadata": {},
   "source": [
    "## First consider $N_S = N_R$"
   ]
  },
  {
   "cell_type": "code",
   "execution_count": 1,
   "metadata": {},
   "outputs": [],
   "source": [
    "from scipy.optimize import fsolve # type: ignore\n",
    "from pathlib import Path\n",
    "import torch\n",
    "import numpy as np\n",
    "\n",
    "datapath = Path('./data/').expanduser()\n",
    "#tensorfile = {'C_span': Csample, 'G_span': Gsample, 'R_span': Rsample, 'S_span': Ssample}\n",
    "loaded = torch.load(datapath/'AltSSsamples.pt')\n",
    "C_span = loaded['C_span']\n",
    "G_span = loaded['G_span']\n",
    "R_span = loaded['R_span']\n",
    "S_span = loaded['S_span']"
   ]
  },
  {
   "attachments": {},
   "cell_type": "markdown",
   "metadata": {},
   "source": [
    "See one case"
   ]
  },
  {
   "cell_type": "code",
   "execution_count": 2,
   "metadata": {},
   "outputs": [],
   "source": [
    "C = C_span[11]\n",
    "G = G_span[11]\n",
    "R = R_span[11]\n",
    "S = S_span[11]\n",
    "\n",
    "delta = R @ G.transpose(0,1)\n",
    "gamma = R * (S @ C)"
   ]
  },
  {
   "cell_type": "code",
   "execution_count": 3,
   "metadata": {},
   "outputs": [],
   "source": [
    "Ns_sub = 1\n",
    "Nr = 12\n",
    "Ns = 12\n",
    "\n",
    "sub_cmbins = torch.combinations(torch.tensor(range(Ns)), r=Ns_sub) # keep r lower than 5\n",
    "num_cmbins = sub_cmbins.size(dim=0)\n",
    "\n",
    "# for cmbins = range(num_cmbins)\n",
    "cmbins = 0\n",
    "self_spe_name = sub_cmbins[cmbins]\n",
    "uniques, counts = torch.cat((self_spe_name, torch.tensor(range(Ns)))).unique(return_counts=True)\n",
    "other_spe_name = uniques[counts == 1]\n",
    "#spe_names = {self_spe_name, other_spe_name}\n",
    "\n",
    "# for other in [0,1]: (we choose other = 1)\n",
    "other = 1\n",
    "if other == 1:\n",
    "    spe_name = other_spe_name\n",
    "    complement = self_spe_name\n",
    "else:\n",
    "    spe_name = self_spe_name\n",
    "    complement = other_spe_name"
   ]
  },
  {
   "cell_type": "code",
   "execution_count": 4,
   "metadata": {},
   "outputs": [],
   "source": [
    "G_sub = G[spe_name,:]\n",
    "C_sub = C[spe_name,:]\n",
    "S_sub = S[spe_name]\n",
    "\n",
    "delta_sub = delta[spe_name]"
   ]
  },
  {
   "cell_type": "code",
   "execution_count": 5,
   "metadata": {},
   "outputs": [],
   "source": [
    "def fixedpoint(x,*para):\n",
    "    (G_sub, C_sub, delta_sub, gamma) = para # which should be .numpy!!!\n",
    "    Ns_sub = G_sub.shape[0]\n",
    "    '''\n",
    "    x[:Ns_sub]: species, the left are resources.  \n",
    "    '''\n",
    "    y = np.zeros(x.shape)\n",
    "    y[:Ns_sub] = x[Ns_sub:] @ G_sub.T - delta_sub\n",
    "    y[Ns_sub:] = x[Ns_sub:] * (x[:Ns_sub] @ C_sub) - gamma\n",
    "    return y"
   ]
  },
  {
   "cell_type": "code",
   "execution_count": 6,
   "metadata": {},
   "outputs": [],
   "source": [
    "para = (G_sub.numpy(), C_sub.numpy(), delta_sub.numpy(), gamma.numpy())\n",
    "init = torch.cat((S_sub, R), dim=0).numpy()\n",
    "sol = torch.tensor(fsolve(fixedpoint, init, args=para)).type('torch.FloatTensor')"
   ]
  },
  {
   "attachments": {},
   "cell_type": "markdown",
   "metadata": {},
   "source": [
    "Test feasibility"
   ]
  },
  {
   "cell_type": "code",
   "execution_count": 7,
   "metadata": {},
   "outputs": [],
   "source": [
    "if torch.all(sol > 0):\n",
    "    print(\"feasible\")"
   ]
  },
  {
   "attachments": {},
   "cell_type": "markdown",
   "metadata": {},
   "source": [
    "Test invadability"
   ]
  },
  {
   "cell_type": "code",
   "execution_count": 8,
   "metadata": {},
   "outputs": [],
   "source": [
    "invade = (sol[len(spe_name):] @ G.transpose(0,1) - delta)[complement]\n",
    "if torch.all(invade < 0.0):\n",
    "    print(\"uninvadable\")\n",
    "\n",
    "# for MacArthur, we should consider if the resources can grow as well."
   ]
  },
  {
   "attachments": {},
   "cell_type": "markdown",
   "metadata": {},
   "source": [
    "We can try diferent initial solving starting points."
   ]
  },
  {
   "cell_type": "code",
   "execution_count": 9,
   "metadata": {},
   "outputs": [],
   "source": [
    "sols = torch.tensor([])\n",
    "# G, C, R, S, all the stuff here\n",
    "for ic in range(10):\n",
    "    init = np.random.rand(len(spe_name)+Nr)\n",
    "    sol = torch.tensor(fsolve(fixedpoint, init, args=para)).type('torch.FloatTensor')\n",
    "    if torch.all(sol > 0): # feasible\n",
    "        invade = (sol[len(spe_name):] @ G.transpose(0,1) - delta)[complement]\n",
    "        if torch.all(invade < 0.0): # uninvadable\n",
    "            Jstar = torch.zeros(len(spe_name)+Nr,len(spe_name)+Nr)\n",
    "            Jstar[:len(spe_name),len(spe_name):] = torch.diag(sol[:len(spe_name)]) @ G_sub\n",
    "            Jstar[len(spe_name):,:len(spe_name)] = - torch.diag(sol[len(spe_name):]) @ C_sub.transpose(0,1)\n",
    "            Jstar[len(spe_name):,len(spe_name):] = - torch.diag(C_sub.transpose(0,1) @ sol[:len(spe_name)])\n",
    "\n",
    "            Eig_J = torch.linalg.eigvals(Jstar).real\n",
    "            if len(Eig_J[Eig_J >= 1.0e-3]) == 0:\n",
    "                # stable!\n",
    "                sols = torch.cat((sols, sol.unsqueeze(0)))\n"
   ]
  },
  {
   "attachments": {},
   "cell_type": "markdown",
   "metadata": {},
   "source": [
    "PCA method"
   ]
  },
  {
   "cell_type": "code",
   "execution_count": 163,
   "metadata": {},
   "outputs": [
    {
     "data": {
      "text/plain": [
       "tensor([11., 11., 11.])"
      ]
     },
     "execution_count": 163,
     "metadata": {},
     "output_type": "execute_result"
    }
   ],
   "source": [
    "sols = torch.rand(3,12)\n",
    "if sols.size() != torch.Size([0]):\n",
    "    prod = sols @ sols.transpose(0,1)\n",
    "    prod = torch.diag((torch.diag(prod)**(-1/2))) @ prod @ torch.diag((torch.diag(prod)**(-1/2)))\n",
    "    Eig_PCA = torch.linalg.eigvals(prod).real\n",
    "    num_AltSS = len(Eig_PCA[Eig_PCA >= 1.0e-3])\n",
    "\n",
    "len(spe_name)*torch.ones(num_AltSS) # type: ignore"
   ]
  },
  {
   "cell_type": "code",
   "execution_count": 164,
   "metadata": {},
   "outputs": [
    {
     "data": {
      "text/plain": [
       "tensor([12.])"
      ]
     },
     "execution_count": 164,
     "metadata": {},
     "output_type": "execute_result"
    }
   ],
   "source": [
    "from FindAltSSfuncsv1 import FindAltSS\n",
    "FindAltSS(G,C,S,R)"
   ]
  },
  {
   "attachments": {},
   "cell_type": "markdown",
   "metadata": {},
   "source": [
    "## New sampling set!"
   ]
  },
  {
   "attachments": {},
   "cell_type": "markdown",
   "metadata": {},
   "source": [
    "Let's get 48 different $\\rho$, and for each $\\rho$, we can sample 16 different ($C$, $G$, $R^*$, and $S^*$)"
   ]
  },
  {
   "cell_type": "code",
   "execution_count": 165,
   "metadata": {},
   "outputs": [],
   "source": [
    "import math\n",
    "Ns = 12\n",
    "Nr = 12\n",
    "\n",
    "num_rho = 48\n",
    "rho_span = torch.zeros(num_rho)\n",
    "rho_span[:int(num_rho/2)] = torch.linspace(0, .85, steps=int(num_rho/2))\n",
    "rho_span[int(num_rho/2):] = torch.linspace(.87, 1, steps=int(num_rho/2))\n",
    "num_test = 16\n",
    "\n",
    "\n",
    "Csample = torch.zeros(num_rho,num_test,Ns,Nr)\n",
    "Gsample = torch.zeros(num_rho,num_test,Ns,Nr)\n",
    "Rsample = torch.zeros(num_rho,num_test,Nr)\n",
    "Ssample = torch.zeros(num_rho,num_test,Ns)\n",
    "\n",
    "for i in range(num_rho):\n",
    "    rho = rho_span[i]\n",
    "    for j in range(num_test):\n",
    "        sample = torch.rand(Ns,2,Nr)\n",
    "        L = torch.tensor([[1, 0],\n",
    "                        [rho, math.sqrt(1-rho**2)]]) # Cholesky decomposition\n",
    "\n",
    "        sample = torch.matmul(L,sample)\n",
    "\n",
    "        G = sample[0:Ns,0]\n",
    "        Gsample[i,j] = G\n",
    "\n",
    "        C = sample[0:Ns,1] # C has not been pushed away\n",
    "\n",
    "        C = C @ torch.diag(0.01+ 0.99*torch.rand(Nr))\n",
    "        Csample[i,j] = C\n",
    "\n",
    "        Sstar = 0.01 + 0.99*torch.rand(Ns)\n",
    "        Rstar = 0.01 + 0.99*torch.rand(Nr)\n",
    "        Ssample[i,j] = Sstar\n",
    "        Rsample[i,j] = Rstar\n",
    "\n",
    "'''\n",
    "datapath = Path('./data/').expanduser()\n",
    "tensorfile = {'C_span': Csample, 'G_span': Gsample, 'R_span': Rsample, 'S_span': Ssample}\n",
    "torch.save(tensorfile, datapath/'AltSSsamplesv1.pt')\n",
    "'''"
   ]
  },
  {
   "cell_type": "code",
   "execution_count": 14,
   "metadata": {},
   "outputs": [],
   "source": [
    "datapath = Path('./data/').expanduser()\n",
    "loaded = torch.load(datapath/'AltSSsamplesv1.pt')\n",
    "\n",
    "C_span = loaded['C_span']\n",
    "G_span = loaded['G_span']\n",
    "R_span = loaded['R_span']\n",
    "S_span = loaded['S_span']\n",
    "\n",
    "# Linear supply\n",
    "l_span = 0.1 + 0.9*torch.rand(R_span.size())\n",
    "kappa_span = torch.zeros(R_span.size())\n",
    "\n",
    "# logistic supply\n",
    "g_span = 0.1 + 0.9*torch.rand(R_span.size())\n",
    "K_span = torch.zeros(R_span.size())\n",
    "\n",
    "for i in range(C_span.shape[0]):\n",
    "    for j in range(C_span.shape[1]):\n",
    "        C = C_span[i,j]\n",
    "        #G = G_span[i,j]\n",
    "        Ss = S_span[i,j]\n",
    "        Rs = R_span[i,j]\n",
    "\n",
    "        kappa_span[i,j] = (Rs * (Ss @ C))/l_span[i,j] + Rs\n",
    "        K_span[i,j] = (Ss @ C)/g_span[i,j] + Rs\n"
   ]
  },
  {
   "cell_type": "code",
   "execution_count": 15,
   "metadata": {},
   "outputs": [],
   "source": [
    "tensorfile = {'l_span': l_span, 'kappa_span': kappa_span, \n",
    "              'g_span': g_span, 'K_span': K_span}\n",
    "torch.save(tensorfile, datapath/'AltSSsamplesv1LinLog.pt')"
   ]
  },
  {
   "cell_type": "code",
   "execution_count": 27,
   "metadata": {},
   "outputs": [
    {
     "data": {
      "text/plain": [
       "tensor([])"
      ]
     },
     "execution_count": 27,
     "metadata": {},
     "output_type": "execute_result"
    }
   ],
   "source": [
    "from FindAltSSfuncsv1 import FindAltSSLog\n",
    "G = G_span[0,0]\n",
    "C = C_span[0,0]\n",
    "Ss = S_span[0,0]\n",
    "Rs = R_span[0,0]\n",
    "\n",
    "delta = Rs @ G.transpose(0,1)\n",
    "g = g_span[0,0]\n",
    "K = K_span[0,0]\n",
    "FindAltSSLog(G,C,delta,g,K)"
   ]
  }
 ],
 "metadata": {
  "kernelspec": {
   "display_name": "base",
   "language": "python",
   "name": "python3"
  },
  "language_info": {
   "codemirror_mode": {
    "name": "ipython",
    "version": 3
   },
   "file_extension": ".py",
   "mimetype": "text/x-python",
   "name": "python",
   "nbconvert_exporter": "python",
   "pygments_lexer": "ipython3",
   "version": "3.10.9"
  },
  "orig_nbformat": 4
 },
 "nbformat": 4,
 "nbformat_minor": 2
}
