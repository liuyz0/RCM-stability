{
 "cells": [
  {
   "attachments": {},
   "cell_type": "markdown",
   "metadata": {},
   "source": [
    "## Find a slid and check all alternative stable states"
   ]
  },
  {
   "attachments": {},
   "cell_type": "markdown",
   "metadata": {},
   "source": [
    "Packages"
   ]
  },
  {
   "cell_type": "code",
   "execution_count": 1,
   "metadata": {},
   "outputs": [],
   "source": [
    "import torch\n",
    "import torch.nn as nn\n",
    "import torch.optim as optim\n",
    "import math"
   ]
  },
  {
   "attachments": {},
   "cell_type": "markdown",
   "metadata": {},
   "source": [
    "Define the network layer: calcuate the time derivatives. Optimiaztion wants to find points with zero derivatives, i.e., fixed points."
   ]
  },
  {
   "cell_type": "code",
   "execution_count": 211,
   "metadata": {},
   "outputs": [],
   "source": [
    "class SolveAltSS(nn.Module):\n",
    "    def __init__(self,Ns_sub,Nr,Sstar,Rstar):\n",
    "        super(SolveAltSS, self).__init__()\n",
    "        self.Ns = Ns_sub\n",
    "        self.Nr = Nr\n",
    "        self.Star = nn.Parameter(torch.cat((Sstar,Rstar)))\n",
    "\n",
    "    def forward(self, G, C, delta, gamma):\n",
    "        dudt = torch.zeros_like(self.Star)\n",
    "        dudt[:self.Ns] = self.Star[:self.Ns]*(self.Star[self.Ns:] @ G.transpose(0,1) - delta)\n",
    "        dudt[self.Ns:] = gamma - self.Star[self.Ns:] * (self.Star[:self.Ns] @ C)\n",
    "\n",
    "        return dudt, self.Star\n",
    "    \n",
    "def Lossfun(dudt, Star):\n",
    "    loss = torch.norm(dudt) + 100*torch.sum(nn.functional.relu(-(Star - 1.0e-5)))\n",
    "    return loss"
   ]
  },
  {
   "attachments": {},
   "cell_type": "markdown",
   "metadata": {},
   "source": [
    "Given $G$, $C$, $R^*$, and $S^*$."
   ]
  },
  {
   "cell_type": "code",
   "execution_count": 212,
   "metadata": {},
   "outputs": [],
   "source": [
    "Ns = 12\n",
    "Nr = 12\n",
    "\n",
    "rho = 0.5\n",
    "# sampling \n",
    "sample = torch.rand(Ns,2,Nr)\n",
    "L = torch.tensor([[1, 0],\n",
    "                 [rho, math.sqrt(1-rho**2)]]) # Cholesky decomposition\n",
    "sample = torch.matmul(L,sample)\n",
    "\n",
    "G = sample[0:Ns,0]\n",
    "C = sample[0:Ns,1] # C has not been pushed away\n",
    "\n",
    "C = C @ torch.diag(0.01+ 0.99*torch.rand(Nr))\n",
    "\n",
    "Sstar = 0.01 + 0.99*torch.rand(Ns)\n",
    "Rstar = 0.01 + 0.99*torch.rand(Nr)\n",
    "\n",
    "# can create gamma and delta\n",
    "delta = Rstar @ G.transpose(0,1)\n",
    "gamma = Rstar * (Sstar @ C)"
   ]
  },
  {
   "attachments": {},
   "cell_type": "markdown",
   "metadata": {},
   "source": [
    "Choose one subset of species"
   ]
  },
  {
   "cell_type": "code",
   "execution_count": 213,
   "metadata": {},
   "outputs": [],
   "source": [
    "Ns_sub = 1 # run from 1 to 5 (int(12-1)/2?) (also get 11 to 7), 6 and 12 are run separately\n",
    "\n",
    "sub_cmbins = torch.combinations(torch.tensor(range(Ns)), r=Ns_sub) # keep r lower than 5\n",
    "num_cmbins = sub_cmbins.size(dim=0)\n",
    "\n",
    "# for cmbins = range(num_cmbins)\n",
    "cmbins = 0\n",
    "self_spe_name = sub_cmbins[cmbins]\n",
    "uniques, counts = torch.cat((self_spe_name, torch.tensor(range(Ns)))).unique(return_counts=True)\n",
    "other_spe_name = uniques[counts == 1]\n",
    "#spe_names = {self_spe_name, other_spe_name}\n",
    "\n",
    "# for other in [0,1]: (we choose other = 1)\n",
    "other = 1\n",
    "if other == 1:\n",
    "    spe_name = other_spe_name\n",
    "    complement = self_spe_name\n",
    "else:\n",
    "    spe_name = self_spe_name\n",
    "    complement = other_spe_name\n"
   ]
  },
  {
   "attachments": {},
   "cell_type": "markdown",
   "metadata": {},
   "source": [
    "Given the names of species, we can look at the submatrices."
   ]
  },
  {
   "cell_type": "code",
   "execution_count": 214,
   "metadata": {},
   "outputs": [],
   "source": [
    "G_sub = G[spe_name,:]\n",
    "C_sub = C[spe_name,:]\n",
    "S_sub = Sstar[spe_name]\n",
    "\n",
    "delta_sub = delta[spe_name]"
   ]
  },
  {
   "attachments": {},
   "cell_type": "markdown",
   "metadata": {},
   "source": [
    "Fininally, we can do optimization"
   ]
  },
  {
   "cell_type": "code",
   "execution_count": 239,
   "metadata": {},
   "outputs": [
    {
     "name": "stdout",
     "output_type": "stream",
     "text": [
      "The last loss is 0.0050\n"
     ]
    }
   ],
   "source": [
    "optisolver = SolveAltSS(len(spe_name),Nr,S_sub,Rstar)\n",
    "optimizer = optim.Adam(optisolver.parameters())\n",
    "\n",
    "lossv = 1\n",
    "losses = []\n",
    "epoch = 1\n",
    "Star = torch.zeros(len(spe_name)+Nr)\n",
    "\n",
    "while lossv > 0.005:\n",
    "\n",
    "    optimizer.zero_grad()\n",
    "\n",
    "    dudt, Star = optisolver(G_sub, C_sub, delta_sub, gamma)\n",
    "    loss = Lossfun(dudt,Star)\n",
    "\n",
    "    loss.backward()\n",
    "\n",
    "    optimizer.step()\n",
    "\n",
    "    lossv = loss.item()\n",
    "    Star = Star.detach()\n",
    "    losses.append(lossv)\n",
    "    if epoch >= 100000:\n",
    "        break\n",
    "\n",
    "    epoch = epoch + 1\n",
    "\n",
    "print('The last loss is %.4f' % lossv)"
   ]
  },
  {
   "cell_type": "code",
   "execution_count": 240,
   "metadata": {},
   "outputs": [
    {
     "data": {
      "text/plain": [
       "Text(0, 0.5, 'Loss, norm of time derivatives')"
      ]
     },
     "execution_count": 240,
     "metadata": {},
     "output_type": "execute_result"
    },
    {
     "data": {
      "image/png": "[encoded data removed]",
      "text/plain": [
       "<Figure size 640x480 with 1 Axes>"
      ]
     },
     "metadata": {},
     "output_type": "display_data"
    }
   ],
   "source": [
    "import matplotlib.pyplot as plt\n",
    "plt.figure()\n",
    "plt.plot(losses)\n",
    "plt.xlabel('Number of iterations')\n",
    "plt.ylabel('Loss, norm of time derivatives')"
   ]
  },
  {
   "attachments": {},
   "cell_type": "markdown",
   "metadata": {},
   "source": [
    "Calculate whether invadable"
   ]
  },
  {
   "cell_type": "code",
   "execution_count": 241,
   "metadata": {},
   "outputs": [
    {
     "data": {
      "text/plain": [
       "True"
      ]
     },
     "execution_count": 241,
     "metadata": {},
     "output_type": "execute_result"
    }
   ],
   "source": [
    "invade = (Star[len(spe_name):] @ G.transpose(0,1) - delta)[complement]\n",
    "len(invade[invade>0]) > 0 # invadable"
   ]
  },
  {
   "attachments": {},
   "cell_type": "markdown",
   "metadata": {},
   "source": [
    "Test stability"
   ]
  },
  {
   "cell_type": "code",
   "execution_count": 242,
   "metadata": {},
   "outputs": [
    {
     "data": {
      "text/plain": [
       "True"
      ]
     },
     "execution_count": 242,
     "metadata": {},
     "output_type": "execute_result"
    }
   ],
   "source": [
    "Jstar = torch.zeros(len(spe_name)+Nr,len(spe_name)+Nr)\n",
    "Jstar[:len(spe_name),len(spe_name):] = torch.diag(Star[:len(spe_name)]) @ G_sub\n",
    "Jstar[len(spe_name):,:len(spe_name)] = - torch.diag(Star[len(spe_name):]) @ C_sub.transpose(0,1)\n",
    "Jstar[len(spe_name):,len(spe_name):] = - torch.diag(C_sub.transpose(0,1) @ Star[:len(spe_name)])\n",
    "\n",
    "Eig_J = torch.linalg.eigvals(Jstar).real\n",
    "len(Eig_J[Eig_J >= 1.0e-3]) > 0 # unstable"
   ]
  },
  {
   "attachments": {},
   "cell_type": "markdown",
   "metadata": {},
   "source": [
    "Write a function that iterate all"
   ]
  },
  {
   "cell_type": "code",
   "execution_count": 243,
   "metadata": {},
   "outputs": [],
   "source": [
    "from FindAltSSfuncs import FindAltSS"
   ]
  },
  {
   "cell_type": "code",
   "execution_count": 244,
   "metadata": {},
   "outputs": [
    {
     "data": {
      "text/plain": [
       "tensor([11., 11.])"
      ]
     },
     "execution_count": 244,
     "metadata": {},
     "output_type": "execute_result"
    }
   ],
   "source": [
    "FindAltSS(1,G,C,Sstar,Rstar)"
   ]
  },
  {
   "attachments": {},
   "cell_type": "markdown",
   "metadata": {},
   "source": [
    "# Let's sample $G$, $C$, $S^*$, and $R^*$ needed"
   ]
  },
  {
   "cell_type": "code",
   "execution_count": 245,
   "metadata": {},
   "outputs": [],
   "source": [
    "from pathlib import Path\n",
    "\n",
    "num_rho = 12\n",
    "rho_span = torch.zeros(num_rho)\n",
    "rho_span[:int(num_rho/2)] = torch.linspace(0, .85, steps=int(num_rho/2))\n",
    "rho_span[int(num_rho/2):] = torch.linspace(.87, 1, steps=int(num_rho/2))\n",
    "\n",
    "Csample = torch.zeros(num_rho,Ns,Nr)\n",
    "Gsample = torch.zeros(num_rho,Ns,Nr)\n",
    "Rsample = torch.zeros(num_rho,Nr)\n",
    "Ssample = torch.zeros(num_rho,Ns)\n",
    "\n",
    "for i in range(num_rho):\n",
    "    rho = rho_span[i]\n",
    "    sample = torch.rand(Ns,2,Nr)\n",
    "    L = torch.tensor([[1, 0],\n",
    "                    [rho, math.sqrt(1-rho**2)]]) # Cholesky decomposition\n",
    "\n",
    "    sample = torch.matmul(L,sample)\n",
    "\n",
    "    G = sample[0:Ns,0]\n",
    "    Gsample[i] = G\n",
    "\n",
    "    C = sample[0:Ns,1] # C has not been pushed away\n",
    "\n",
    "    C = C @ torch.diag(0.01+ 0.99*torch.rand(Nr))\n",
    "    Csample[i] = C\n",
    "\n",
    "    Sstar = 0.01 + 0.99*torch.rand(Ns)\n",
    "    Rstar = 0.01 + 0.99*torch.rand(Nr)\n",
    "    Ssample[i] = Sstar\n",
    "    Rsample[i] = Rstar\n",
    "\n",
    "datapath = Path('./data/').expanduser()\n",
    "tensorfile = {'C_span': Csample, 'G_span': Gsample, 'R_span': Rsample, 'S_span': Ssample}\n",
    "torch.save(tensorfile, datapath/'AltSSsamples.pt')"
   ]
  },
  {
   "cell_type": "code",
   "execution_count": 249,
   "metadata": {},
   "outputs": [
    {
     "data": {
      "text/plain": [
       "tensor([[0., 0., 0., 0., 0., 0., 0., 0., 0., 0., 0., 0.],\n",
       "        [0., 0., 0., 0., 0., 0., 0., 0., 0., 0., 0., 0.],\n",
       "        [0., 0., 0., 0., 0., 0., 0., 0., 0., 0., 0., 0.],\n",
       "        [0., 0., 0., 0., 0., 0., 0., 0., 0., 0., 0., 0.],\n",
       "        [0., 0., 0., 0., 0., 0., 0., 0., 0., 0., 0., 0.],\n",
       "        [0., 0., 0., 0., 0., 0., 0., 0., 0., 0., 0., 0.],\n",
       "        [0., 0., 0., 0., 0., 0., 0., 0., 0., 0., 0., 0.],\n",
       "        [0., 0., 0., 0., 0., 0., 0., 0., 0., 0., 0., 0.],\n",
       "        [0., 0., 0., 0., 0., 0., 0., 0., 0., 0., 0., 0.],\n",
       "        [0., 0., 0., 0., 0., 0., 0., 0., 0., 0., 0., 0.],\n",
       "        [0., 0., 0., 0., 0., 0., 0., 0., 0., 0., 0., 0.],\n",
       "        [0., 0., 0., 0., 0., 0., 0., 0., 0., 0., 0., 0.]])"
      ]
     },
     "execution_count": 249,
     "metadata": {},
     "output_type": "execute_result"
    }
   ],
   "source": [
    "loaded = torch.load(datapath/'AltSSsamples.pt')\n",
    "C_span = loaded['C_span']\n",
    "C_span[0] - Csample[0]"
   ]
  },
  {
   "cell_type": "code",
   "execution_count": 258,
   "metadata": {},
   "outputs": [
    {
     "data": {
      "text/plain": [
       "tensor([0., 0.])"
      ]
     },
     "execution_count": 258,
     "metadata": {},
     "output_type": "execute_result"
    }
   ],
   "source": [
    "task_id = 0\n",
    "AltSSdiv = torch.zeros(2)\n",
    "filename = 'AltSSdiv'+str(task_id)+'.pt'\n",
    "torch.save({'AltSSdiv': AltSSdiv}, datapath/filename)\n",
    "torch.load(datapath/filename)['AltSSdiv']"
   ]
  }
 ],
 "metadata": {
  "kernelspec": {
   "display_name": "base",
   "language": "python",
   "name": "python3"
  },
  "language_info": {
   "codemirror_mode": {
    "name": "ipython",
    "version": 3
   },
   "file_extension": ".py",
   "mimetype": "text/x-python",
   "name": "python",
   "nbconvert_exporter": "python",
   "pygments_lexer": "ipython3",
   "version": "3.10.9"
  },
  "orig_nbformat": 4
 },
 "nbformat": 4,
 "nbformat_minor": 2
}
