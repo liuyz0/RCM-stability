{
 "cells": [
  {
   "cell_type": "markdown",
   "metadata": {},
   "source": [
    "# Look into one community with fully coexisting alternative stable state"
   ]
  },
  {
   "cell_type": "code",
   "execution_count": 1,
   "metadata": {},
   "outputs": [],
   "source": [
    "import torch\n",
    "from pathlib import Path\n",
    "from scipy.io import savemat\n",
    "import sys\n",
    "sys.path.append('../src/')\n",
    "from solving import FindAltSS\n",
    "from optimizing import trainI, NormalG\n",
    "datapath = Path('../data/')"
   ]
  },
  {
   "cell_type": "code",
   "execution_count": 2,
   "metadata": {},
   "outputs": [],
   "source": [
    "vars = torch.load(datapath/'min_dim12.pt')\n",
    "G = vars[\"G\"]\n",
    "C = vars[\"C\"]\n",
    "Rs = vars[\"Rs\"]\n",
    "Ss = vars[\"Ss\"]\n",
    "div = vars[\"div\"]\n",
    "\"\"\"\n",
    "forjl = {\"C\":C.numpy(), \"G\": G.numpy(),\"Rs\": Rs.numpy(), \n",
    "             \"Ss\": Ss.numpy()}\n",
    "savemat(\"../data/forjl.mat\", forjl)\n",
    "\"\"\"\n",
    "_, solutions, spe_name = FindAltSS(G,C,Ss,Rs)"
   ]
  },
  {
   "cell_type": "code",
   "execution_count": 3,
   "metadata": {},
   "outputs": [
    {
     "data": {
      "text/plain": [
       "tensor([0.7043, 0.9914, 0.1405, 0.7109])"
      ]
     },
     "execution_count": 3,
     "metadata": {},
     "output_type": "execute_result"
    }
   ],
   "source": [
    "Ss"
   ]
  },
  {
   "cell_type": "code",
   "execution_count": 4,
   "metadata": {},
   "outputs": [
    {
     "data": {
      "text/plain": [
       "tensor([0.5490, 0.6257, 0.8113, 0.1844])"
      ]
     },
     "execution_count": 4,
     "metadata": {},
     "output_type": "execute_result"
    }
   ],
   "source": [
    "Rs"
   ]
  },
  {
   "cell_type": "code",
   "execution_count": 5,
   "metadata": {},
   "outputs": [],
   "source": [
    "EGC, Estd, CD = trainI(G,C,n=0.5)"
   ]
  },
  {
   "cell_type": "code",
   "execution_count": 6,
   "metadata": {},
   "outputs": [],
   "source": [
    "CDsimp = NormalG(CD)\n",
    "Gsimp = NormalG(G)"
   ]
  },
  {
   "cell_type": "code",
   "execution_count": 7,
   "metadata": {},
   "outputs": [
    {
     "data": {
      "text/plain": [
       "tensor([[0.1915, 0.4172, 0.2255, 0.1658],\n",
       "        [0.0539, 0.5042, 0.3614, 0.0805],\n",
       "        [0.5222, 0.1287, 0.2867, 0.0625],\n",
       "        [0.3456, 0.1947, 0.2362, 0.2235]])"
      ]
     },
     "execution_count": 7,
     "metadata": {},
     "output_type": "execute_result"
    }
   ],
   "source": [
    "Gsimp"
   ]
  },
  {
   "cell_type": "code",
   "execution_count": 8,
   "metadata": {},
   "outputs": [
    {
     "data": {
      "text/plain": [
       "tensor([[0.2151, 0.4427, 0.2759, 0.0662],\n",
       "        [0.2239, 0.4088, 0.2756, 0.0916],\n",
       "        [0.3004, 0.2482, 0.3299, 0.1216],\n",
       "        [0.4290, 0.2240, 0.2431, 0.1039]])"
      ]
     },
     "execution_count": 8,
     "metadata": {},
     "output_type": "execute_result"
    }
   ],
   "source": [
    "CDsimp"
   ]
  },
  {
   "cell_type": "code",
   "execution_count": 9,
   "metadata": {},
   "outputs": [
    {
     "data": {
      "text/plain": [
       "tensor([0.7043, 0.9914, 0.1405, 0.7109, 0.5490, 0.6257, 0.8113, 0.1844])"
      ]
     },
     "execution_count": 9,
     "metadata": {},
     "output_type": "execute_result"
    }
   ],
   "source": [
    "solutions[0][0]"
   ]
  },
  {
   "cell_type": "code",
   "execution_count": 11,
   "metadata": {},
   "outputs": [
    {
     "data": {
      "text/plain": [
       "tensor([1.1118, 3.0352, 0.5984, 0.6657, 0.7067, 0.1690])"
      ]
     },
     "execution_count": 11,
     "metadata": {},
     "output_type": "execute_result"
    }
   ],
   "source": [
    "solutions[1][0]"
   ]
  },
  {
   "cell_type": "code",
   "execution_count": 12,
   "metadata": {},
   "outputs": [
    {
     "data": {
      "text/plain": [
       "[tensor([0, 1, 2, 3]), tensor([0, 2])]"
      ]
     },
     "execution_count": 12,
     "metadata": {},
     "output_type": "execute_result"
    }
   ],
   "source": [
    "spe_name"
   ]
  }
 ],
 "metadata": {
  "kernelspec": {
   "display_name": "base",
   "language": "python",
   "name": "python3"
  },
  "language_info": {
   "codemirror_mode": {
    "name": "ipython",
    "version": 3
   },
   "file_extension": ".py",
   "mimetype": "text/x-python",
   "name": "python",
   "nbconvert_exporter": "python",
   "pygments_lexer": "ipython3",
   "version": "3.10.9"
  },
  "orig_nbformat": 4
 },
 "nbformat": 4,
 "nbformat_minor": 2
}
