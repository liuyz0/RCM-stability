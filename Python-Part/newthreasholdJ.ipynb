{
 "cells": [
  {
   "cell_type": "markdown",
   "metadata": {},
   "source": [
    "previously E_J > 1e-3, now change to E_J > 1e-6"
   ]
  },
  {
   "cell_type": "code",
   "execution_count": 1,
   "metadata": {},
   "outputs": [],
   "source": [
    "import torch\n",
    "import matplotlib\n",
    "matplotlib.rcParams.update({'font.size': 11})\n",
    "\n",
    "import matplotlib.pyplot as plt\n",
    "from pathlib import Path\n",
    "\n",
    "from scipy.io import loadmat\n",
    "\n",
    "datapath = Path('./data/').expanduser()\n",
    "loaded = torch.load(datapath/'torch_test')\n",
    "Outputs = loaded['Outputs']\n",
    "Ns_span = loaded['Ns_span']\n",
    "rho_span = loaded['rho_span']\n",
    "Nr = loaded['Nr']\n",
    "num_try = Outputs.size(dim = 1)\n",
    "\n",
    "loaded1 = loadmat(\"./data/allsamples.mat\")\n",
    "\n",
    "C_span = torch.tensor(loaded1[\"allC\"])\n",
    "G_span = torch.tensor(loaded1[\"allG\"])\n",
    "S_span = torch.tensor(loaded1[\"allSstar\"])\n",
    "R_span = torch.tensor(loaded1[\"allRstar\"])"
   ]
  },
  {
   "cell_type": "code",
   "execution_count": 2,
   "metadata": {},
   "outputs": [],
   "source": [
    "for i in range(len(Ns_span)):\n",
    "    Ns = Ns_span[i]\n",
    "    for j in range(len(rho_span)):\n",
    "        G = G_span[i,j,0:Ns,:]\n",
    "        C = C_span[i,j,0:Ns,:]\n",
    "        for k in range(num_try):\n",
    "            Ss = S_span[i,j,k,:Ns]\n",
    "            Rs = R_span[i,j,k,:]\n",
    "\n",
    "            Jstar = torch.zeros(Ns+Nr,Ns+Nr)\n",
    "            Jstar[0:Ns,Ns:Ns+Nr] = torch.diag(Ss) @ G\n",
    "            Jstar[Ns:Ns+Nr,0:Ns] = - torch.diag(Rs) @ C.transpose(0,1)\n",
    "            Jstar[Ns:Ns+Nr,Ns:Ns+Nr] = - torch.diag(C.transpose(0,1) @ Ss)\n",
    "\n",
    "            E_J = torch.linalg.eigvals(Jstar).real\n",
    "            Outputs[0,k,i,j] = len(E_J[E_J >= 1.0e-6])/Ns # Fraction of Unstable modes of the real Jacobian\n",
    "            E_GC = torch.linalg.eigvals(- G @ C.transpose(0,1)).real\n",
    "            Outputs[1,k,i,j] = len(E_GC[E_GC >= 1.0e-6])/Ns"
   ]
  },
  {
   "cell_type": "code",
   "execution_count": 3,
   "metadata": {},
   "outputs": [],
   "source": [
    "datapath = Path('./data/').expanduser()\n",
    "tensorfile = {'Outputs': Outputs, 'Nr': Nr, 'Ns_span': Ns_span, 'rho_span': rho_span}\n",
    "torch.save(tensorfile, datapath/'torch_testv1.pt')"
   ]
  }
 ],
 "metadata": {
  "kernelspec": {
   "display_name": "base",
   "language": "python",
   "name": "python3"
  },
  "language_info": {
   "codemirror_mode": {
    "name": "ipython",
    "version": 3
   },
   "file_extension": ".py",
   "mimetype": "text/x-python",
   "name": "python",
   "nbconvert_exporter": "python",
   "pygments_lexer": "ipython3",
   "version": "3.10.9"
  },
  "orig_nbformat": 4
 },
 "nbformat": 4,
 "nbformat_minor": 2
}
