{
 "cells": [
  {
   "attachments": {},
   "cell_type": "markdown",
   "metadata": {},
   "source": [
    "# Check the three resource supplies"
   ]
  },
  {
   "attachments": {},
   "cell_type": "markdown",
   "metadata": {},
   "source": [
    "Need to find the simplest way of sampling, and what need to be changed in different codes to be compatible with different resource supplies. "
   ]
  },
  {
   "attachments": {},
   "cell_type": "markdown",
   "metadata": {},
   "source": [
    "## Framework\n",
    "\n",
    "The species and resources dynamics is given by \n",
    "$$\n",
    "\\frac{\\mathrm{d} S_i}{\\mathrm{d} t} = S_i \\Big(\\sum_{\\alpha}G_{i\\alpha}R_{\\alpha} - \\delta_i \\Big),\\\\\n",
    "\\frac{\\mathrm{d} R_{\\alpha}}{\\mathrm{d} t} = h_{\\alpha}(R_\\alpha) - R_{\\alpha}\\sum_{i}C_{i\\alpha}S_i.\n",
    "$$\n",
    "Local Jacobian at fixed point is \n",
    "$$\n",
    "   J^* = \\left(\\begin{array}{c|c}\n",
    "       O  & D(S^*)G\\\\[1.0ex]\n",
    "     \\hline\\\\[-1.0ex]\n",
    "     -D(R^*)C^\\top   & \\frac{\\partial h}{\\partial R} - D(C^\\top S^*)\n",
    "    \\end{array}\n",
    "    \\right).\n",
    "$$"
   ]
  },
  {
   "attachments": {},
   "cell_type": "markdown",
   "metadata": {},
   "source": [
    "## Constant supply\n",
    "\n",
    "$h_\\alpha = \\gamma_\\alpha$, such that $\\frac{\\partial h}{\\partial R} = 0$."
   ]
  },
  {
   "attachments": {},
   "cell_type": "markdown",
   "metadata": {},
   "source": [
    "## Linear supply\n",
    "\n",
    "$h_{\\alpha} = l_\\alpha (R^{\\bullet}_{\\alpha} - R_{\\alpha})$, where $l$ is the dilution rates, and $R^{\\bullet}_{\\alpha}$ is the source concentration.\n",
    "$$\\frac{\\partial h}{\\partial R} = -D(l).$$"
   ]
  },
  {
   "attachments": {},
   "cell_type": "markdown",
   "metadata": {},
   "source": [
    "## Logistic supply"
   ]
  },
  {
   "attachments": {},
   "cell_type": "markdown",
   "metadata": {},
   "source": [
    "$h_{\\alpha} = g_{\\alpha} R_{\\alpha}(K_{\\alpha} - R_{\\alpha})$, where $g_{\\alpha}K_{\\alpha}$ is the logistic growth rate and $K_{\\alpha}$ the carrying capacity.\n",
    "\n",
    "$$\n",
    "\\frac{\\partial h_\\alpha}{\\partial R_\\alpha} = g_\\alpha (K_{\\alpha}-2R_\\alpha) = \\sum_i C_{i\\alpha} S_i - g_\\alpha R_\\alpha\n",
    "$$"
   ]
  },
  {
   "attachments": {},
   "cell_type": "markdown",
   "metadata": {},
   "source": [
    "## Calculate the real Jacobians\n",
    "\n",
    "We can directly use these to draw figures. Sample and save for simulations."
   ]
  },
  {
   "cell_type": "code",
   "execution_count": 1,
   "metadata": {},
   "outputs": [],
   "source": [
    "# load the data G, C, S, R.\n",
    "from scipy.io import loadmat # type: ignore\n",
    "import torch\n",
    "\n",
    "loadedGC = loadmat(\"./data/allsamples.mat\")\n",
    "C_span = torch.tensor(loadedGC['allC'])\n",
    "G_span = torch.tensor(loadedGC['allG'])\n",
    "S_span = torch.tensor(loadedGC['allSstar'])\n",
    "R_span = torch.tensor(loadedGC['allRstar'])\n",
    "\n",
    "Ns_span = torch.tensor(loadedGC['Ns_span']).squeeze(0)\n",
    "Nr = int(torch.tensor(loadedGC['Nr']).squeeze(0))\n",
    "num_try = int(torch.tensor(loadedGC['num_try']).squeeze(0))"
   ]
  },
  {
   "attachments": {},
   "cell_type": "markdown",
   "metadata": {},
   "source": [
    "For linear supply, for each community, we need one more parameter $l$."
   ]
  },
  {
   "cell_type": "code",
   "execution_count": 2,
   "metadata": {},
   "outputs": [],
   "source": [
    "'''\n",
    "l_span = 0.1 + 0.9*torch.rand(R_span.size())\n",
    "# solve source supply\n",
    "\n",
    "kappa_span = torch.zeros(R_span.size())\n",
    "\n",
    "# forlogistic growth, we need to sample g\n",
    "g_span = 0.1 + 0.9*torch.rand(R_span.size())\n",
    "# solve carrying capacity\n",
    "K_span = torch.zeros(R_span.size())\n",
    "'''\n",
    "loadlgK = loadmat(\"./data/LinLogsamples.mat\")\n",
    "l_span = torch.tensor(loadlgK['alll'])\n",
    "g_span = torch.tensor(loadlgK['allg'])\n",
    "#kappa_span = torch.tensor(loadlgK['allkappa'])\n",
    "#K_span = torch.tensor(loadlgK['allK'])\n",
    "\n",
    "Jnewout = torch.zeros(2,num_try,len(Ns_span),C_span.shape[1]) # 0: linear supply #1: logistic supply\n",
    "\n",
    "for i in range(len(Ns_span)):\n",
    "    Ns = int(Ns_span[i]) # different Ns\n",
    "    for j in range(C_span.shape[1]):\n",
    "        # different correlations\n",
    "        C = C_span[i,j,:Ns,:]\n",
    "        G = G_span[i,j,:Ns,:]\n",
    "        for k in range(num_try):\n",
    "            # for different fixed points\n",
    "            Ss = S_span[i,j,k,:Ns]\n",
    "            Rs = R_span[i,j,k,:]\n",
    "            # we can solve the source concentration kappa\n",
    "            #kappa = (Rs * (Ss @ C))/l_span[i,j,k] + Rs\n",
    "            #kappa_span[i,j,k] = kappa\n",
    "\n",
    "            # we can solve the carrying capacity\n",
    "            #K = (Ss @ C)/g_span[i,j,k] + Rs\n",
    "            #K_span[i,j,k] = K\n",
    "\n",
    "            Js = torch.zeros(Ns+Nr,Ns+Nr)\n",
    "            Js[0:Ns,Ns:Ns+Nr] = torch.diag(Ss) @ G\n",
    "            Js[Ns:Ns+Nr,0:Ns] = - torch.diag(Rs) @ C.transpose(0,1)\n",
    "            Js[Ns:Ns+Nr,Ns:Ns+Nr] = - torch.diag(C.transpose(0,1) @ Ss) - torch.diag(l_span[i,j,k])\n",
    "\n",
    "            E_J = torch.linalg.eigvals(Js).real\n",
    "            Jnewout[0,k,i,j] = len(E_J[E_J >= 1.0e-6])/Ns # Fraction of Unstable modes of the real Jacobian\n",
    "\n",
    "            Js[Ns:Ns+Nr,Ns:Ns+Nr] = - torch.diag(g_span[i,j,k] * Rs)\n",
    "            E_J = torch.linalg.eigvals(Js).real\n",
    "            Jnewout[1,k,i,j] = len(E_J[E_J >= 1.0e-6])/Ns\n"
   ]
  },
  {
   "cell_type": "code",
   "execution_count": 3,
   "metadata": {},
   "outputs": [
    {
     "data": {
      "text/plain": [
       "'\\ntensordic = {\"alll\":l_span.numpy(),\"allkappa\":kappa_span.numpy(),\\n             \"allg\":g_span.numpy(),\"allK\": K_span.numpy()}\\nsavemat(\"./data/LinLogsamples.mat\", tensordic)\\n'"
      ]
     },
     "execution_count": 3,
     "metadata": {},
     "output_type": "execute_result"
    }
   ],
   "source": [
    "from scipy.io import savemat # type: ignore\n",
    "from pathlib import Path\n",
    "\n",
    "datapath = Path('./data/').expanduser()\n",
    "tensorfile = {'Jnewout': Jnewout}\n",
    "torch.save(tensorfile, datapath/'LinLogJ.pt')\n",
    "\n",
    "'''\n",
    "tensordic = {\"alll\":l_span.numpy(),\"allkappa\":kappa_span.numpy(),\n",
    "             \"allg\":g_span.numpy(),\"allK\": K_span.numpy()}\n",
    "savemat(\"./data/LinLogsamples.mat\", tensordic)\n",
    "'''"
   ]
  }
 ],
 "metadata": {
  "kernelspec": {
   "display_name": "base",
   "language": "python",
   "name": "python3"
  },
  "language_info": {
   "codemirror_mode": {
    "name": "ipython",
    "version": 3
   },
   "file_extension": ".py",
   "mimetype": "text/x-python",
   "name": "python",
   "nbconvert_exporter": "python",
   "pygments_lexer": "ipython3",
   "version": "3.10.9"
  },
  "orig_nbformat": 4
 },
 "nbformat": 4,
 "nbformat_minor": 2
}
