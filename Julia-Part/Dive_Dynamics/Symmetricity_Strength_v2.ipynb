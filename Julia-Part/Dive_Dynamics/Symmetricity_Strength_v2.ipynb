{
 "cells": [
  {
   "cell_type": "markdown",
   "metadata": {},
   "source": [
    "Let $A = GC^\\top$, we can define $\\tilde{A} = diag(A)^{-1/2} A diag(A)^{-1/2}$. The strength is given by \n",
    "$$\n",
    "\\|(\\tilde{A} +\\tilde{A}^\\top)/2 - I \\|,\n",
    "$$\n",
    "and the symmetricity is \n",
    "$$\n",
    "\\|(\\tilde{A} - \\tilde{A}^\\top)/2\\|.\n",
    "$$\n",
    "\n",
    "Let $+$ be the Moore-Penrose inverse (pseudoinverse). Also try $A = GC^+$?!"
   ]
  },
  {
   "cell_type": "code",
   "execution_count": 1,
   "metadata": {},
   "outputs": [],
   "source": [
    "import torch\n",
    "import mat73\n",
    "import matplotlib.pyplot as plt\n",
    "import math\n",
    "import matplotlib"
   ]
  },
  {
   "cell_type": "code",
   "execution_count": 2,
   "metadata": {},
   "outputs": [],
   "source": [
    "gcrs = mat73.loadmat(\"./data/GCRS.mat\")\n",
    "G_span = torch.tensor(gcrs[\"G_span\"]).type('torch.FloatTensor')\n",
    "C_span = torch.tensor(gcrs[\"C_span\"]).type('torch.FloatTensor')"
   ]
  },
  {
   "cell_type": "code",
   "execution_count": 3,
   "metadata": {},
   "outputs": [],
   "source": [
    "# normalize to the simplex\n",
    "\n",
    "G_span = G_span / G_span.sum(dim=-1).unsqueeze(-1)\n",
    "\n",
    "C_span = C_span / C_span.sum(dim=-1).unsqueeze(-1)"
   ]
  },
  {
   "cell_type": "code",
   "execution_count": 4,
   "metadata": {},
   "outputs": [],
   "source": [
    "mean_C = C_span.mean(dim=-2)\n",
    "C_cen = C_span - mean_C.unsqueeze(-2)\n",
    "\n",
    "mean_G = G_span.mean(dim=-2)\n",
    "G_cen = G_span - mean_G.unsqueeze(-2)"
   ]
  },
  {
   "cell_type": "code",
   "execution_count": 5,
   "metadata": {},
   "outputs": [],
   "source": [
    "C_frame = C_cen.transpose(-1,-2) @  C_cen\n",
    "#C_frame = C_frame/torch.diagonal(C_frame, dim1=-2, dim2=-1).sum(dim=-1).unsqueeze(-1).unsqueeze(-1)\n",
    "\n",
    "G_frame = G_cen.transpose(-1,-2) @ G_cen\n",
    "#G_frame = G_frame/torch.diagonal(G_frame, dim1=-2, dim2=-1).sum(dim=-1).unsqueeze(-1).unsqueeze(-1)"
   ]
  },
  {
   "cell_type": "code",
   "execution_count": 6,
   "metadata": {},
   "outputs": [],
   "source": [
    "L_G, Q_G = torch.linalg.eigh(G_frame)\n",
    "L_Q, Q_C = torch.linalg.eigh(C_frame)"
   ]
  },
  {
   "cell_type": "code",
   "execution_count": 11,
   "metadata": {},
   "outputs": [],
   "source": [
    "rotation = Q_G @ Q_C.transpose(-1,-2)"
   ]
  },
  {
   "cell_type": "markdown",
   "metadata": {},
   "source": [
    "roation"
   ]
  },
  {
   "cell_type": "code",
   "execution_count": 7,
   "metadata": {},
   "outputs": [],
   "source": [
    "#C_in_G = (C_frame - G_frame) @ torch.linalg.pinv(G_frame)"
   ]
  },
  {
   "cell_type": "code",
   "execution_count": 8,
   "metadata": {},
   "outputs": [],
   "source": [
    "#SP = (C_in_G + C_in_G.transpose(-1,-2))/2\n",
    "#ASP = 1j*(C_in_G - C_in_G.transpose(-1,-2))/2"
   ]
  },
  {
   "cell_type": "code",
   "execution_count": 9,
   "metadata": {},
   "outputs": [],
   "source": [
    "#torch.linalg.eigvalsh(SP)[143,0]"
   ]
  },
  {
   "cell_type": "code",
   "execution_count": 10,
   "metadata": {},
   "outputs": [],
   "source": [
    "#torch.linalg.eigvalsh(ASP)[143,0]"
   ]
  }
 ],
 "metadata": {
  "kernelspec": {
   "display_name": "base",
   "language": "python",
   "name": "python3"
  },
  "language_info": {
   "codemirror_mode": {
    "name": "ipython",
    "version": 3
   },
   "file_extension": ".py",
   "mimetype": "text/x-python",
   "name": "python",
   "nbconvert_exporter": "python",
   "pygments_lexer": "ipython3",
   "version": "3.10.9"
  },
  "orig_nbformat": 4
 },
 "nbformat": 4,
 "nbformat_minor": 2
}
