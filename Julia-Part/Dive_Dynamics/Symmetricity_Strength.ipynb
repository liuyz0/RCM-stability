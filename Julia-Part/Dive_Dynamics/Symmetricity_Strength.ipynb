{
 "cells": [
  {
   "cell_type": "markdown",
   "metadata": {},
   "source": [
    "Let $A = GC^\\top$, we can define $\\tilde{A} = diag(A)^{-1/2} A diag(A)^{-1/2}$. The strength is given by \n",
    "$$\n",
    "\\|(\\tilde{A} +\\tilde{A}^\\top)/2 - I \\|,\n",
    "$$\n",
    "and the symmetricity is \n",
    "$$\n",
    "\\|(\\tilde{A} - \\tilde{A}^\\top)/2\\|.\n",
    "$$\n",
    "\n",
    "Let $+$ be the Moore-Penrose inverse (pseudoinverse). Also try $A = GC^+$?!"
   ]
  },
  {
   "cell_type": "code",
   "execution_count": 1,
   "metadata": {},
   "outputs": [],
   "source": [
    "import torch\n",
    "import mat73\n",
    "import matplotlib.pyplot as plt\n",
    "from pathlib import Path\n",
    "import math\n",
    "import matplotlib"
   ]
  },
  {
   "cell_type": "code",
   "execution_count": 2,
   "metadata": {},
   "outputs": [],
   "source": [
    "gcrs = mat73.loadmat(\"./data/GCRS.mat\")\n",
    "G_span = torch.tensor(gcrs[\"G_span\"]).type('torch.FloatTensor')\n",
    "C_span = torch.tensor(gcrs[\"C_span\"]).type('torch.FloatTensor')"
   ]
  },
  {
   "cell_type": "code",
   "execution_count": 12,
   "metadata": {},
   "outputs": [],
   "source": [
    "A_span = G_span.matmul(C_span.transpose(-1,-2))\n",
    "normalize = torch.diagonal(A_span, dim1=-2, dim2=-1)\n",
    "\n",
    "tA_span = (normalize**(-0.5)).unsqueeze(-1) * A_span * (normalize**(-0.5)).unsqueeze(-2)"
   ]
  },
  {
   "cell_type": "code",
   "execution_count": 21,
   "metadata": {},
   "outputs": [],
   "source": [
    "sA_span = (tA_span + tA_span.transpose(-1,-2))/2\n",
    "asA_span = (tA_span - tA_span.transpose(-1,-2))/2"
   ]
  },
  {
   "cell_type": "code",
   "execution_count": 30,
   "metadata": {},
   "outputs": [],
   "source": [
    "#ST = torch.linalg.matrix_norm(sA_span - torch.eye(32), ord=2)\n",
    "ST = - torch.linalg.eigvalsh(sA_span - torch.eye(32)).min(dim=-1).values"
   ]
  },
  {
   "cell_type": "markdown",
   "metadata": {},
   "source": [
    "The transpose thing seems not to work."
   ]
  },
  {
   "cell_type": "code",
   "execution_count": 32,
   "metadata": {},
   "outputs": [],
   "source": [
    "tA_span = G_span.matmul(torch.linalg.pinv(C_span))\n",
    "\n"
   ]
  }
 ],
 "metadata": {
  "kernelspec": {
   "display_name": "base",
   "language": "python",
   "name": "python3"
  },
  "language_info": {
   "codemirror_mode": {
    "name": "ipython",
    "version": 3
   },
   "file_extension": ".py",
   "mimetype": "text/x-python",
   "name": "python",
   "nbconvert_exporter": "python",
   "pygments_lexer": "ipython3",
   "version": "3.10.9"
  },
  "orig_nbformat": 4
 },
 "nbformat": 4,
 "nbformat_minor": 2
}
