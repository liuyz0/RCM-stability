{
 "cells": [
  {
   "cell_type": "markdown",
   "metadata": {},
   "source": [
    "Let $A = GC^\\top$, we can define $\\tilde{A} = diag(A)^{-1/2} A diag(A)^{-1/2}$. The strength is given by \n",
    "$$\n",
    "\\|(\\tilde{A} +\\tilde{A}^\\top)/2 - I \\|,\n",
    "$$\n",
    "and the symmetricity is \n",
    "$$\n",
    "\\|(\\tilde{A} - \\tilde{A}^\\top)/2\\|.\n",
    "$$\n",
    "\n",
    "Let $+$ be the Moore-Penrose inverse (pseudoinverse). Also try $A = GC^+$?!"
   ]
  },
  {
   "cell_type": "code",
   "execution_count": 1,
   "metadata": {},
   "outputs": [],
   "source": [
    "import torch\n",
    "import mat73\n",
    "import matplotlib.pyplot as plt\n",
    "import math\n",
    "import matplotlib"
   ]
  },
  {
   "cell_type": "code",
   "execution_count": 68,
   "metadata": {},
   "outputs": [],
   "source": [
    "gcrs = mat73.loadmat(\"./data/GCRS.mat\")\n",
    "G_span = torch.tensor(gcrs[\"G_span\"]).type('torch.FloatTensor')\n",
    "C_span = torch.tensor(gcrs[\"C_span\"]).type('torch.FloatTensor')"
   ]
  },
  {
   "cell_type": "code",
   "execution_count": 69,
   "metadata": {},
   "outputs": [],
   "source": [
    "# normalize to the simplex\n",
    "\n",
    "#G_span = G_span / G_span.sum(dim=-1).unsqueeze(-1)\n",
    "\n",
    "#C_span = C_span / C_span.sum(dim=-1).unsqueeze(-1)"
   ]
  },
  {
   "cell_type": "code",
   "execution_count": 70,
   "metadata": {},
   "outputs": [],
   "source": [
    "mean_C = C_span.mean(dim=-2)\n",
    "C_cen = C_span - mean_C.unsqueeze(-2)\n",
    "\n",
    "mean_G = G_span.mean(dim=-2)\n",
    "G_cen = G_span - mean_G.unsqueeze(-2)"
   ]
  },
  {
   "cell_type": "code",
   "execution_count": 71,
   "metadata": {},
   "outputs": [],
   "source": [
    "C_frame = C_cen.transpose(-1,-2) @  C_cen\n",
    "C_frame = C_frame/torch.diagonal(C_frame, dim1=-2, dim2=-1).sum(dim=-1).unsqueeze(-1).unsqueeze(-1)\n",
    "\n",
    "G_frame = G_cen.transpose(-1,-2) @ G_cen\n",
    "G_frame = G_frame/torch.diagonal(G_frame, dim1=-2, dim2=-1).sum(dim=-1).unsqueeze(-1).unsqueeze(-1)"
   ]
  },
  {
   "cell_type": "code",
   "execution_count": null,
   "metadata": {},
   "outputs": [],
   "source": [
    "_, Q_G = torch.linalg.eigh(G_frame)\n",
    "_, Q_C = torch.linalg.eigh(C_frame)"
   ]
  },
  {
   "cell_type": "markdown",
   "metadata": {},
   "source": [
    "roation"
   ]
  },
  {
   "cell_type": "code",
   "execution_count": 72,
   "metadata": {},
   "outputs": [],
   "source": [
    "#C_in_G = (C_frame - G_frame) @ torch.linalg.pinv(G_frame)"
   ]
  },
  {
   "cell_type": "code",
   "execution_count": 73,
   "metadata": {},
   "outputs": [],
   "source": [
    "#SP = (C_in_G + C_in_G.transpose(-1,-2))/2\n",
    "#ASP = 1j*(C_in_G - C_in_G.transpose(-1,-2))/2"
   ]
  },
  {
   "cell_type": "code",
   "execution_count": 76,
   "metadata": {},
   "outputs": [
    {
     "data": {
      "text/plain": [
       "tensor(2.9765)"
      ]
     },
     "execution_count": 76,
     "metadata": {},
     "output_type": "execute_result"
    }
   ],
   "source": [
    "#torch.linalg.eigvalsh(SP)[143,0]"
   ]
  },
  {
   "cell_type": "code",
   "execution_count": 80,
   "metadata": {},
   "outputs": [
    {
     "data": {
      "text/plain": [
       "tensor([-8.0745e+01, -2.2873e+01, -1.1192e+01, -6.1725e+00, -3.8509e+00,\n",
       "        -1.9450e+00, -1.7127e+00, -1.2497e+00, -7.5968e-01, -5.3334e-01,\n",
       "        -4.0673e-01, -2.9105e-01, -2.1118e-01, -1.2478e-01, -8.2010e-02,\n",
       "        -8.2016e-03,  8.2018e-03,  8.2008e-02,  1.2478e-01,  2.1118e-01,\n",
       "         2.9105e-01,  4.0673e-01,  5.3334e-01,  7.5968e-01,  1.2497e+00,\n",
       "         1.7127e+00,  1.9450e+00,  3.8509e+00,  6.1725e+00,  1.1192e+01,\n",
       "         2.2873e+01,  8.0745e+01])"
      ]
     },
     "execution_count": 80,
     "metadata": {},
     "output_type": "execute_result"
    }
   ],
   "source": [
    "#torch.linalg.eigvalsh(ASP)[143,0]"
   ]
  }
 ],
 "metadata": {
  "kernelspec": {
   "display_name": "base",
   "language": "python",
   "name": "python3"
  },
  "language_info": {
   "codemirror_mode": {
    "name": "ipython",
    "version": 3
   },
   "file_extension": ".py",
   "mimetype": "text/x-python",
   "name": "python",
   "nbconvert_exporter": "python",
   "pygments_lexer": "ipython3",
   "version": "3.10.9"
  },
  "orig_nbformat": 4
 },
 "nbformat": 4,
 "nbformat_minor": 2
}
